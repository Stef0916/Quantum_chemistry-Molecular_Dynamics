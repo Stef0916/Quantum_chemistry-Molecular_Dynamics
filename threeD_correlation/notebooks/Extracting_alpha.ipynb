{
 "cells": [
  {
   "cell_type": "markdown",
   "metadata": {},
   "source": [
    "## Step-by-Step Implementation of Solving the Equation for \\( Y \\)\n",
    "\n",
    "### Objective:\n",
    "We have an equation that correlates three variables \\( X \\) = `Theta`, \\( Y \\) = `Alpha`, and \\( J \\). Given specific values for \\( X \\) and \\( J \\), our goal is to solve this equation for \\( Y \\).\n",
    "\n",
    "### The Equation:\n",
    "\n",
    "\\begin{equation}\n",
    "\\small\n",
    "J = 7498.5893663009 - 97.8261709408X - 74.8697514292Y + 0.1807431182X^2 - 0.0063908009X^2Y - 0.0003704683X^2Y^2 - 4.2194914164Y^2 + 0.0794858425XY^2 + 1.4614280743XY\n",
    "\\end{equation}\n",
    "\n",
    "Where:\n",
    "- \\( X \\) and \\( J \\) are our predictor variables.\n",
    "- \\( Y \\) is the target variable we aim to predict.\n",
    "\n",
    "### Implementation Steps:\n",
    "1. Define the equation symbolically.\n",
    "2. Solve the equation for \\( Y \\) using specified values for \\( X \\) and \\( J \\).\n",
    "3. Output the solutions for \\( Y \\).\n",
    "\n",
    "Note: X and J values are extracted from experiments performed by ourselves of taken from previous studies."
   ]
  },
  {
   "cell_type": "code",
   "execution_count": 6,
   "metadata": {
    "id": "mgNF-ocILIfp"
   },
   "outputs": [
    {
     "name": "stdout",
     "output_type": "stream",
     "text": [
      "Solution 1: Y ≈ 47.600\n",
      "Solution 2: Y ≈ -621.808\n"
     ]
    }
   ],
   "source": [
    "import sympy as sp\n",
    "\n",
    "# 1. Define the equation using symbolic computation:\n",
    "\n",
    "# Define the symbols and coefficients\n",
    "X, Y, J = sp.symbols('X Y J')\n",
    "c = [7498.5893663009, -97.8261709408, -74.8697514292, 0.1807431182, -00.0063908009, -0.0003704683, -4.2194914164, 0.0794858425, 1.4614280743]\n",
    "\n",
    "# Define the equation\n",
    "equation = sp.Eq(J, c[0] + c[1] * X + c[2] * Y + c[3] * X**2 + c[4] * X**2 * Y + c[5] * X**2 * Y**2 + c[6] * Y**2 + c[7] * X * Y**2 + c[8] * X * Y)\n",
    "\n",
    "# 2. Solve the equation for Y:\n",
    "solutions = sp.solve(equation, Y)\n",
    "\n",
    "# 3. Example usage to print solutions for Y:\n",
    "\n",
    "X_value = 98  # Replace with desired X value\n",
    "J_value = 6.908  # Replace with desired J value\n",
    "\n",
    "# Calculate Y values that satisfy the equation\n",
    "Y_values = [sol.evalf(subs={X: X_value, J: J_value}) for sol in solutions]\n",
    "\n",
    "# Print the Y values\n",
    "for i, Y_value in enumerate(Y_values):\n",
    "    print(f\"Solution {i + 1}: Y ≈ {Y_value:.3f}\")"
   ]
  },
  {
   "cell_type": "markdown",
   "metadata": {},
   "source": [
    "Given the quadratic nature of the equation, it is possible to have multiple solutions for \\( Y \\) for a given \\( X \\) and \\( J \\) value. In the context of the equation, we take the value which has physical meaning.\n"
   ]
  }
 ],
 "metadata": {
  "colab": {
   "authorship_tag": "ABX9TyMjw7mvMTi6sJQrrjyuJF0j",
   "provenance": []
  },
  "kernelspec": {
   "display_name": "Python 3 (ipykernel)",
   "language": "python",
   "name": "python3"
  },
  "language_info": {
   "codemirror_mode": {
    "name": "ipython",
    "version": 3
   },
   "file_extension": ".py",
   "mimetype": "text/x-python",
   "name": "python",
   "nbconvert_exporter": "python",
   "pygments_lexer": "ipython3",
   "version": "3.10.10"
  }
 },
 "nbformat": 4,
 "nbformat_minor": 4
}
